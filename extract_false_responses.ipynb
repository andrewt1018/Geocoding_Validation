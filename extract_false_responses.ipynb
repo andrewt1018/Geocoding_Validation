{
 "cells": [
  {
   "cell_type": "code",
   "execution_count": 1,
   "id": "91784d77",
   "metadata": {},
   "outputs": [],
   "source": [
    "from gc_val import GC_Val\n",
    "import pandas as pd\n",
    "import pickle"
   ]
  },
  {
   "cell_type": "code",
   "execution_count": 2,
   "id": "b85af1fb",
   "metadata": {},
   "outputs": [
    {
     "name": "stdout",
     "output_type": "stream",
     "text": [
      "Index(['bingapi_log_id', 'requested_address', 'requested_date', 'response',\n",
      "       'file_master_id'],\n",
      "      dtype='object')\n"
     ]
    }
   ],
   "source": [
    "val = GC_Val(\"data.csv\", \"neighborhoods.pkl\")\n",
    "print(val.df.columns)\n",
    "threshold = 0.7\n",
    "max_dist = 15 #km"
   ]
  },
  {
   "cell_type": "code",
   "execution_count": 3,
   "id": "13d06e1d",
   "metadata": {},
   "outputs": [
    {
     "data": {
      "application/vnd.jupyter.widget-view+json": {
       "model_id": "b6fbe2f72a884e598964951fa028f658",
       "version_major": 2,
       "version_minor": 0
      },
      "text/plain": [
       "  0%|          | 0/100000 [00:00<?, ?it/s]"
      ]
     },
     "metadata": {},
     "output_type": "display_data"
    },
    {
     "name": "stdout",
     "output_type": "stream",
     "text": [
      "Index: 2581. Error: Expecting value: line 1 column 1 (char 0)\n",
      "Given address:\n"
     ]
    },
    {
     "data": {
      "text/plain": [
       "{'addressLine': '20 WEST WAY',\n",
       " 'countryRegion': 'US',\n",
       " 'locality': 'Old Greenwich',\n",
       " 'adminDistrict2': 'Fairfield',\n",
       " 'adminDistrict': 'CT',\n",
       " 'postalCode': 6870}"
      ]
     },
     "metadata": {},
     "output_type": "display_data"
    },
    {
     "name": "stdout",
     "output_type": "stream",
     "text": [
      "Response address:\n"
     ]
    },
    {
     "data": {
      "text/plain": [
       "nan"
      ]
     },
     "metadata": {},
     "output_type": "display_data"
    },
    {
     "name": "stdout",
     "output_type": "stream",
     "text": [
      "Index: 12192. Error: Expecting value: line 1 column 1 (char 0)\n",
      "Given address:\n"
     ]
    },
    {
     "data": {
      "text/plain": [
       "{'addressLine': '5541 SENTIERO DR',\n",
       " 'countryRegion': 'US',\n",
       " 'locality': 'Nokomis',\n",
       " 'adminDistrict2': 'Sarasota',\n",
       " 'adminDistrict': 'FL',\n",
       " 'postalCode': 34275}"
      ]
     },
     "metadata": {},
     "output_type": "display_data"
    },
    {
     "name": "stdout",
     "output_type": "stream",
     "text": [
      "Response address:\n"
     ]
    },
    {
     "data": {
      "text/plain": [
       "nan"
      ]
     },
     "metadata": {},
     "output_type": "display_data"
    },
    {
     "name": "stdout",
     "output_type": "stream",
     "text": [
      "Index: 19417. Error: Expecting value: line 1 column 1 (char 0)\n",
      "Given address:\n"
     ]
    },
    {
     "data": {
      "text/plain": [
       "{'addressLine': '9613 WATERCREST ISLE',\n",
       " 'countryRegion': 'US',\n",
       " 'locality': 'Parkland',\n",
       " 'adminDistrict2': 'Broward',\n",
       " 'adminDistrict': 'FL',\n",
       " 'postalCode': 33076}"
      ]
     },
     "metadata": {},
     "output_type": "display_data"
    },
    {
     "name": "stdout",
     "output_type": "stream",
     "text": [
      "Response address:\n"
     ]
    },
    {
     "data": {
      "text/plain": [
       "nan"
      ]
     },
     "metadata": {},
     "output_type": "display_data"
    },
    {
     "name": "stdout",
     "output_type": "stream",
     "text": [
      "Index: 24682. Error: Expecting value: line 1 column 1 (char 0)\n",
      "Given address:\n"
     ]
    },
    {
     "data": {
      "text/plain": [
       "{'addressLine': '12311 KENSINGTON LAKES DR UNIT 1802',\n",
       " 'countryRegion': 'US',\n",
       " 'locality': 'Jacksonville',\n",
       " 'adminDistrict2': 'Duval',\n",
       " 'adminDistrict': 'FL',\n",
       " 'postalCode': 32246}"
      ]
     },
     "metadata": {},
     "output_type": "display_data"
    },
    {
     "name": "stdout",
     "output_type": "stream",
     "text": [
      "Response address:\n"
     ]
    },
    {
     "data": {
      "text/plain": [
       "nan"
      ]
     },
     "metadata": {},
     "output_type": "display_data"
    },
    {
     "name": "stdout",
     "output_type": "stream",
     "text": [
      "Index: 25754. Error: Expecting value: line 1 column 1 (char 0)\n",
      "Given address:\n"
     ]
    },
    {
     "data": {
      "text/plain": [
       "{'addressLine': '640 VALENCIA CIR SW',\n",
       " 'countryRegion': 'US',\n",
       " 'locality': 'Vero Beach',\n",
       " 'adminDistrict2': 'Indian River',\n",
       " 'adminDistrict': 'FL',\n",
       " 'postalCode': 32968}"
      ]
     },
     "metadata": {},
     "output_type": "display_data"
    },
    {
     "name": "stdout",
     "output_type": "stream",
     "text": [
      "Response address:\n"
     ]
    },
    {
     "data": {
      "text/plain": [
       "nan"
      ]
     },
     "metadata": {},
     "output_type": "display_data"
    },
    {
     "name": "stderr",
     "output_type": "stream",
     "text": [
      "Traceback (most recent call last):\n",
      "  File \"C:\\Users\\andrew.tan\\AppData\\Local\\anaconda3\\lib\\site-packages\\urllib3\\connectionpool.py\", line 703, in urlopen\n",
      "    httplib_response = self._make_request(\n",
      "  File \"C:\\Users\\andrew.tan\\AppData\\Local\\anaconda3\\lib\\site-packages\\urllib3\\connectionpool.py\", line 449, in _make_request\n",
      "    six.raise_from(e, None)\n",
      "  File \"<string>\", line 3, in raise_from\n",
      "  File \"C:\\Users\\andrew.tan\\AppData\\Local\\anaconda3\\lib\\site-packages\\urllib3\\connectionpool.py\", line 444, in _make_request\n",
      "    httplib_response = conn.getresponse()\n",
      "  File \"C:\\Users\\andrew.tan\\AppData\\Local\\anaconda3\\lib\\http\\client.py\", line 1374, in getresponse\n",
      "    response.begin()\n",
      "  File \"C:\\Users\\andrew.tan\\AppData\\Local\\anaconda3\\lib\\http\\client.py\", line 318, in begin\n",
      "    version, status, reason = self._read_status()\n",
      "  File \"C:\\Users\\andrew.tan\\AppData\\Local\\anaconda3\\lib\\http\\client.py\", line 287, in _read_status\n",
      "    raise RemoteDisconnected(\"Remote end closed connection without\"\n",
      "http.client.RemoteDisconnected: Remote end closed connection without response\n",
      "\n",
      "During handling of the above exception, another exception occurred:\n",
      "\n",
      "Traceback (most recent call last):\n",
      "  File \"C:\\Users\\andrew.tan\\AppData\\Local\\anaconda3\\lib\\site-packages\\requests\\adapters.py\", line 486, in send\n",
      "    resp = conn.urlopen(\n",
      "  File \"C:\\Users\\andrew.tan\\AppData\\Local\\anaconda3\\lib\\site-packages\\urllib3\\connectionpool.py\", line 787, in urlopen\n",
      "    retries = retries.increment(\n",
      "  File \"C:\\Users\\andrew.tan\\AppData\\Local\\anaconda3\\lib\\site-packages\\urllib3\\util\\retry.py\", line 550, in increment\n",
      "    raise six.reraise(type(error), error, _stacktrace)\n",
      "  File \"C:\\Users\\andrew.tan\\AppData\\Local\\anaconda3\\lib\\site-packages\\urllib3\\packages\\six.py\", line 769, in reraise\n",
      "    raise value.with_traceback(tb)\n",
      "  File \"C:\\Users\\andrew.tan\\AppData\\Local\\anaconda3\\lib\\site-packages\\urllib3\\connectionpool.py\", line 703, in urlopen\n",
      "    httplib_response = self._make_request(\n",
      "  File \"C:\\Users\\andrew.tan\\AppData\\Local\\anaconda3\\lib\\site-packages\\urllib3\\connectionpool.py\", line 449, in _make_request\n",
      "    six.raise_from(e, None)\n",
      "  File \"<string>\", line 3, in raise_from\n",
      "  File \"C:\\Users\\andrew.tan\\AppData\\Local\\anaconda3\\lib\\site-packages\\urllib3\\connectionpool.py\", line 444, in _make_request\n",
      "    httplib_response = conn.getresponse()\n",
      "  File \"C:\\Users\\andrew.tan\\AppData\\Local\\anaconda3\\lib\\http\\client.py\", line 1374, in getresponse\n",
      "    response.begin()\n",
      "  File \"C:\\Users\\andrew.tan\\AppData\\Local\\anaconda3\\lib\\http\\client.py\", line 318, in begin\n",
      "    version, status, reason = self._read_status()\n",
      "  File \"C:\\Users\\andrew.tan\\AppData\\Local\\anaconda3\\lib\\http\\client.py\", line 287, in _read_status\n",
      "    raise RemoteDisconnected(\"Remote end closed connection without\"\n",
      "urllib3.exceptions.ProtocolError: ('Connection aborted.', RemoteDisconnected('Remote end closed connection without response'))\n",
      "\n",
      "During handling of the above exception, another exception occurred:\n",
      "\n",
      "Traceback (most recent call last):\n",
      "  File \"C:\\Users\\andrew.tan\\Jupyter Notebooks\\Geocoding_Validation\\gc_val.py\", line 153, in get_distance\n",
      "    city1_resp = requests.get(req).json()\n",
      "  File \"C:\\Users\\andrew.tan\\AppData\\Local\\anaconda3\\lib\\site-packages\\requests\\api.py\", line 73, in get\n",
      "    return request(\"get\", url, params=params, **kwargs)\n",
      "  File \"C:\\Users\\andrew.tan\\AppData\\Local\\anaconda3\\lib\\site-packages\\requests\\api.py\", line 59, in request\n",
      "    return session.request(method=method, url=url, **kwargs)\n",
      "  File \"C:\\Users\\andrew.tan\\AppData\\Local\\anaconda3\\lib\\site-packages\\requests\\sessions.py\", line 589, in request\n",
      "    resp = self.send(prep, **send_kwargs)\n",
      "  File \"C:\\Users\\andrew.tan\\AppData\\Local\\anaconda3\\lib\\site-packages\\requests\\sessions.py\", line 703, in send\n",
      "    r = adapter.send(request, **kwargs)\n",
      "  File \"C:\\Users\\andrew.tan\\AppData\\Local\\anaconda3\\lib\\site-packages\\requests\\adapters.py\", line 501, in send\n",
      "    raise ConnectionError(err, request=request)\n",
      "requests.exceptions.ConnectionError: ('Connection aborted.', RemoteDisconnected('Remote end closed connection without response'))\n"
     ]
    },
    {
     "name": "stdout",
     "output_type": "stream",
     "text": [
      "Retrying...\n"
     ]
    },
    {
     "name": "stderr",
     "output_type": "stream",
     "text": [
      "Traceback (most recent call last):\n",
      "  File \"C:\\Users\\andrew.tan\\AppData\\Local\\anaconda3\\lib\\site-packages\\urllib3\\connectionpool.py\", line 703, in urlopen\n",
      "    httplib_response = self._make_request(\n",
      "  File \"C:\\Users\\andrew.tan\\AppData\\Local\\anaconda3\\lib\\site-packages\\urllib3\\connectionpool.py\", line 449, in _make_request\n",
      "    six.raise_from(e, None)\n",
      "  File \"<string>\", line 3, in raise_from\n",
      "  File \"C:\\Users\\andrew.tan\\AppData\\Local\\anaconda3\\lib\\site-packages\\urllib3\\connectionpool.py\", line 444, in _make_request\n",
      "    httplib_response = conn.getresponse()\n",
      "  File \"C:\\Users\\andrew.tan\\AppData\\Local\\anaconda3\\lib\\http\\client.py\", line 1374, in getresponse\n",
      "    response.begin()\n",
      "  File \"C:\\Users\\andrew.tan\\AppData\\Local\\anaconda3\\lib\\http\\client.py\", line 318, in begin\n",
      "    version, status, reason = self._read_status()\n",
      "  File \"C:\\Users\\andrew.tan\\AppData\\Local\\anaconda3\\lib\\http\\client.py\", line 287, in _read_status\n",
      "    raise RemoteDisconnected(\"Remote end closed connection without\"\n",
      "http.client.RemoteDisconnected: Remote end closed connection without response\n",
      "\n",
      "During handling of the above exception, another exception occurred:\n",
      "\n",
      "Traceback (most recent call last):\n",
      "  File \"C:\\Users\\andrew.tan\\AppData\\Local\\anaconda3\\lib\\site-packages\\requests\\adapters.py\", line 486, in send\n",
      "    resp = conn.urlopen(\n",
      "  File \"C:\\Users\\andrew.tan\\AppData\\Local\\anaconda3\\lib\\site-packages\\urllib3\\connectionpool.py\", line 787, in urlopen\n",
      "    retries = retries.increment(\n",
      "  File \"C:\\Users\\andrew.tan\\AppData\\Local\\anaconda3\\lib\\site-packages\\urllib3\\util\\retry.py\", line 550, in increment\n",
      "    raise six.reraise(type(error), error, _stacktrace)\n",
      "  File \"C:\\Users\\andrew.tan\\AppData\\Local\\anaconda3\\lib\\site-packages\\urllib3\\packages\\six.py\", line 769, in reraise\n",
      "    raise value.with_traceback(tb)\n",
      "  File \"C:\\Users\\andrew.tan\\AppData\\Local\\anaconda3\\lib\\site-packages\\urllib3\\connectionpool.py\", line 703, in urlopen\n",
      "    httplib_response = self._make_request(\n",
      "  File \"C:\\Users\\andrew.tan\\AppData\\Local\\anaconda3\\lib\\site-packages\\urllib3\\connectionpool.py\", line 449, in _make_request\n",
      "    six.raise_from(e, None)\n",
      "  File \"<string>\", line 3, in raise_from\n",
      "  File \"C:\\Users\\andrew.tan\\AppData\\Local\\anaconda3\\lib\\site-packages\\urllib3\\connectionpool.py\", line 444, in _make_request\n",
      "    httplib_response = conn.getresponse()\n",
      "  File \"C:\\Users\\andrew.tan\\AppData\\Local\\anaconda3\\lib\\http\\client.py\", line 1374, in getresponse\n",
      "    response.begin()\n",
      "  File \"C:\\Users\\andrew.tan\\AppData\\Local\\anaconda3\\lib\\http\\client.py\", line 318, in begin\n",
      "    version, status, reason = self._read_status()\n",
      "  File \"C:\\Users\\andrew.tan\\AppData\\Local\\anaconda3\\lib\\http\\client.py\", line 287, in _read_status\n",
      "    raise RemoteDisconnected(\"Remote end closed connection without\"\n",
      "urllib3.exceptions.ProtocolError: ('Connection aborted.', RemoteDisconnected('Remote end closed connection without response'))\n",
      "\n",
      "During handling of the above exception, another exception occurred:\n",
      "\n",
      "Traceback (most recent call last):\n",
      "  File \"C:\\Users\\andrew.tan\\Jupyter Notebooks\\Geocoding_Validation\\gc_val.py\", line 153, in get_distance\n",
      "    city1_resp = requests.get(req).json()\n",
      "  File \"C:\\Users\\andrew.tan\\AppData\\Local\\anaconda3\\lib\\site-packages\\requests\\api.py\", line 73, in get\n",
      "    return request(\"get\", url, params=params, **kwargs)\n",
      "  File \"C:\\Users\\andrew.tan\\AppData\\Local\\anaconda3\\lib\\site-packages\\requests\\api.py\", line 59, in request\n",
      "    return session.request(method=method, url=url, **kwargs)\n",
      "  File \"C:\\Users\\andrew.tan\\AppData\\Local\\anaconda3\\lib\\site-packages\\requests\\sessions.py\", line 589, in request\n",
      "    resp = self.send(prep, **send_kwargs)\n",
      "  File \"C:\\Users\\andrew.tan\\AppData\\Local\\anaconda3\\lib\\site-packages\\requests\\sessions.py\", line 703, in send\n",
      "    r = adapter.send(request, **kwargs)\n",
      "  File \"C:\\Users\\andrew.tan\\AppData\\Local\\anaconda3\\lib\\site-packages\\requests\\adapters.py\", line 501, in send\n",
      "    raise ConnectionError(err, request=request)\n",
      "requests.exceptions.ConnectionError: ('Connection aborted.', RemoteDisconnected('Remote end closed connection without response'))\n"
     ]
    },
    {
     "name": "stdout",
     "output_type": "stream",
     "text": [
      "Retrying...\n",
      "Index: 59487. Error: Expecting value: line 1 column 1 (char 0)\n",
      "Given address:\n"
     ]
    },
    {
     "data": {
      "text/plain": [
       "{'addressLine': '458 FOREST RD',\n",
       " 'countryRegion': 'US',\n",
       " 'locality': 'SEA ISLAND',\n",
       " 'adminDistrict2': 'GLYNN',\n",
       " 'adminDistrict': 'GA',\n",
       " 'postalCode': 31561}"
      ]
     },
     "metadata": {},
     "output_type": "display_data"
    },
    {
     "name": "stdout",
     "output_type": "stream",
     "text": [
      "Response address:\n"
     ]
    },
    {
     "data": {
      "text/plain": [
       "nan"
      ]
     },
     "metadata": {},
     "output_type": "display_data"
    },
    {
     "name": "stdout",
     "output_type": "stream",
     "text": [
      "Index: 77055. Error: Expecting value: line 1 column 1 (char 0)\n",
      "Given address:\n"
     ]
    },
    {
     "data": {
      "text/plain": [
       "{'addressLine': '3 PRESERVATION WAY',\n",
       " 'countryRegion': 'US',\n",
       " 'locality': 'MEDFIELD',\n",
       " 'adminDistrict2': 'NORFOLK COUNTY',\n",
       " 'adminDistrict': 'MA',\n",
       " 'postalCode': 2052}"
      ]
     },
     "metadata": {},
     "output_type": "display_data"
    },
    {
     "name": "stdout",
     "output_type": "stream",
     "text": [
      "Response address:\n"
     ]
    },
    {
     "data": {
      "text/plain": [
       "nan"
      ]
     },
     "metadata": {},
     "output_type": "display_data"
    },
    {
     "name": "stdout",
     "output_type": "stream",
     "text": [
      "Number of faulty entries: 2194\n",
      "Number of NULL responses: 7\n"
     ]
    }
   ],
   "source": [
    "faulty, no_resp = val.main(debug=False, threshold=threshold, max_dist=max_dist, start=0, end=200, complete=True)\n",
    "print(\"Number of faulty entries:\", len(faulty))\n",
    "print(\"Number of NULL responses:\", len(no_resp))\n"
   ]
  },
  {
   "cell_type": "code",
   "execution_count": 4,
   "id": "d99f3eda",
   "metadata": {},
   "outputs": [],
   "source": [
    "file = open(\"false_responses2.pkl\", \"wb\")\n",
    "pickle.dump(faulty, file)\n",
    "file.close()"
   ]
  },
  {
   "cell_type": "code",
   "execution_count": null,
   "id": "49822fe3",
   "metadata": {},
   "outputs": [],
   "source": []
  }
 ],
 "metadata": {
  "kernelspec": {
   "display_name": "Python 3 (ipykernel)",
   "language": "python",
   "name": "python3"
  },
  "language_info": {
   "codemirror_mode": {
    "name": "ipython",
    "version": 3
   },
   "file_extension": ".py",
   "mimetype": "text/x-python",
   "name": "python",
   "nbconvert_exporter": "python",
   "pygments_lexer": "ipython3",
   "version": "3.10.9"
  }
 },
 "nbformat": 4,
 "nbformat_minor": 5
}
