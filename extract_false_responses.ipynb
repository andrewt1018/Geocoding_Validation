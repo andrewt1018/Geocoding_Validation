{
 "cells": [
  {
   "cell_type": "code",
   "execution_count": 1,
   "id": "91784d77",
   "metadata": {},
   "outputs": [],
   "source": [
    "from gc_val import GC_Val\n",
    "import pandas as pd\n",
    "import pickle"
   ]
  },
  {
   "cell_type": "code",
   "execution_count": 2,
   "id": "b85af1fb",
   "metadata": {},
   "outputs": [
    {
     "name": "stdout",
     "output_type": "stream",
     "text": [
      "Index(['bingapi_log_id', 'requested_address', 'requested_date', 'response',\n",
      "       'file_master_id'],\n",
      "      dtype='object')\n"
     ]
    }
   ],
   "source": [
    "# Create an instance of the validation class\n",
    "val = GC_Val(\"data.csv\", \"neighborhoods.pkl\")\n",
    "print(val.df.columns)\n",
    "\n",
    "# Set some constants\n",
    "threshold = 0.7\n",
    "max_dist = 15 #km"
   ]
  },
  {
   "cell_type": "code",
   "execution_count": 3,
   "id": "13d06e1d",
   "metadata": {},
   "outputs": [
    {
     "data": {
      "application/vnd.jupyter.widget-view+json": {
       "model_id": "8ac4f7f334f14ac8b4a8dc3d5fa4967c",
       "version_major": 2,
       "version_minor": 0
      },
      "text/plain": [
       "  0%|          | 0/99993 [00:00<?, ?it/s]"
      ]
     },
     "metadata": {},
     "output_type": "display_data"
    },
    {
     "name": "stdout",
     "output_type": "stream",
     "text": [
      "Number of faulty entries: 3533\n",
      "Number of NULL responses: 0\n"
     ]
    }
   ],
   "source": [
    "# Main\n",
    "faulty, no_resp = val.main(debug=False, threshold=threshold, max_dist=max_dist, start=0, end=200, complete=True)\n",
    "print(\"Number of faulty entries:\", len(faulty))\n",
    "print(\"Number of NULL responses:\", len(no_resp))\n"
   ]
  },
  {
   "cell_type": "code",
   "execution_count": 4,
   "id": "d99f3eda",
   "metadata": {},
   "outputs": [],
   "source": [
    "# Save the indexes of the false responses into a pickle file\n",
    "file = open(\"false_responses.pkl\", \"wb\")\n",
    "pickle.dump(faulty, file)\n",
    "file.close()"
   ]
  },
  {
   "cell_type": "code",
   "execution_count": null,
   "id": "e09e69f4",
   "metadata": {},
   "outputs": [],
   "source": []
  }
 ],
 "metadata": {
  "kernelspec": {
   "display_name": "Python 3 (ipykernel)",
   "language": "python",
   "name": "python3"
  },
  "language_info": {
   "codemirror_mode": {
    "name": "ipython",
    "version": 3
   },
   "file_extension": ".py",
   "mimetype": "text/x-python",
   "name": "python",
   "nbconvert_exporter": "python",
   "pygments_lexer": "ipython3",
   "version": "3.10.9"
  }
 },
 "nbformat": 4,
 "nbformat_minor": 5
}
