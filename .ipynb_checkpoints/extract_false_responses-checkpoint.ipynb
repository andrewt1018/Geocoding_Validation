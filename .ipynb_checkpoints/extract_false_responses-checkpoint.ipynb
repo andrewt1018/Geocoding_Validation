{
 "cells": [
  {
   "cell_type": "code",
   "execution_count": 9,
   "id": "91784d77",
   "metadata": {},
   "outputs": [],
   "source": [
    "import pandas as pd\n",
    "import pickle\n",
    "import json"
   ]
  },
  {
   "cell_type": "code",
   "execution_count": 3,
   "id": "8de92da8",
   "metadata": {},
   "outputs": [
    {
     "data": {
      "text/html": [
       "<div>\n",
       "<style scoped>\n",
       "    .dataframe tbody tr th:only-of-type {\n",
       "        vertical-align: middle;\n",
       "    }\n",
       "\n",
       "    .dataframe tbody tr th {\n",
       "        vertical-align: top;\n",
       "    }\n",
       "\n",
       "    .dataframe thead th {\n",
       "        text-align: right;\n",
       "    }\n",
       "</style>\n",
       "<table border=\"1\" class=\"dataframe\">\n",
       "  <thead>\n",
       "    <tr style=\"text-align: right;\">\n",
       "      <th></th>\n",
       "      <th>bingapi_log_id</th>\n",
       "      <th>requested_address</th>\n",
       "      <th>requested_date</th>\n",
       "      <th>response</th>\n",
       "      <th>file_master_id</th>\n",
       "    </tr>\n",
       "  </thead>\n",
       "  <tbody>\n",
       "    <tr>\n",
       "      <th>0</th>\n",
       "      <td>110753</td>\n",
       "      <td>{\"addressLine\":\"26 GULL POINT ROAD\",\"countryRe...</td>\n",
       "      <td>2021-06-19 13:49:28.31</td>\n",
       "      <td>{\"traceId\":\"eaca4a5f7add45fcafb75e6c2665a17a|B...</td>\n",
       "      <td>658</td>\n",
       "    </tr>\n",
       "    <tr>\n",
       "      <th>1</th>\n",
       "      <td>110754</td>\n",
       "      <td>{\"addressLine\":\"169 O'NEAL DRIVE\",\"countryRegi...</td>\n",
       "      <td>2021-06-19 13:49:28.329</td>\n",
       "      <td>{\"traceId\":\"e9fca329abf14902bd7ba41f45b8f4cf|B...</td>\n",
       "      <td>658</td>\n",
       "    </tr>\n",
       "    <tr>\n",
       "      <th>2</th>\n",
       "      <td>110755</td>\n",
       "      <td>{\"addressLine\":\"70 NORTH COMPASS DRIVE\",\"count...</td>\n",
       "      <td>2021-06-19 13:49:28.348</td>\n",
       "      <td>{\"traceId\":\"7634d6efaa484cfd8d5898490633b281|B...</td>\n",
       "      <td>658</td>\n",
       "    </tr>\n",
       "    <tr>\n",
       "      <th>3</th>\n",
       "      <td>110756</td>\n",
       "      <td>{\"addressLine\":\"23634 MALIBU COLONY RD #\",\"cou...</td>\n",
       "      <td>2021-06-19 13:49:28.367</td>\n",
       "      <td>{\"traceId\":\"af61f618a4644557b70f393f89384041|B...</td>\n",
       "      <td>658</td>\n",
       "    </tr>\n",
       "    <tr>\n",
       "      <th>4</th>\n",
       "      <td>110757</td>\n",
       "      <td>{\"addressLine\":\"170 ARVIDA PARKWAY\",\"countryRe...</td>\n",
       "      <td>2021-06-19 13:49:28.386</td>\n",
       "      <td>{\"traceId\":\"bb77afff54d34bf8a2b3063a71ad522d|B...</td>\n",
       "      <td>658</td>\n",
       "    </tr>\n",
       "  </tbody>\n",
       "</table>\n",
       "</div>"
      ],
      "text/plain": [
       "   bingapi_log_id                                  requested_address  \\\n",
       "0          110753  {\"addressLine\":\"26 GULL POINT ROAD\",\"countryRe...   \n",
       "1          110754  {\"addressLine\":\"169 O'NEAL DRIVE\",\"countryRegi...   \n",
       "2          110755  {\"addressLine\":\"70 NORTH COMPASS DRIVE\",\"count...   \n",
       "3          110756  {\"addressLine\":\"23634 MALIBU COLONY RD #\",\"cou...   \n",
       "4          110757  {\"addressLine\":\"170 ARVIDA PARKWAY\",\"countryRe...   \n",
       "\n",
       "            requested_date                                           response  \\\n",
       "0   2021-06-19 13:49:28.31  {\"traceId\":\"eaca4a5f7add45fcafb75e6c2665a17a|B...   \n",
       "1  2021-06-19 13:49:28.329  {\"traceId\":\"e9fca329abf14902bd7ba41f45b8f4cf|B...   \n",
       "2  2021-06-19 13:49:28.348  {\"traceId\":\"7634d6efaa484cfd8d5898490633b281|B...   \n",
       "3  2021-06-19 13:49:28.367  {\"traceId\":\"af61f618a4644557b70f393f89384041|B...   \n",
       "4  2021-06-19 13:49:28.386  {\"traceId\":\"bb77afff54d34bf8a2b3063a71ad522d|B...   \n",
       "\n",
       "   file_master_id  \n",
       "0             658  \n",
       "1             658  \n",
       "2             658  \n",
       "3             658  \n",
       "4             658  "
      ]
     },
     "execution_count": 3,
     "metadata": {},
     "output_type": "execute_result"
    }
   ],
   "source": [
    "df = pd.read_csv(\"data.csv\")\n",
    "df.head()"
   ]
  },
  {
   "cell_type": "code",
   "execution_count": 5,
   "id": "d1e249f6",
   "metadata": {},
   "outputs": [
    {
     "data": {
      "text/plain": [
       "'{\"addressLine\":\"26 GULL POINT ROAD\",\"countryRegion\":\"US\",\"locality\":\"Hilton Head Island\",\"adminDistrict2\":\"Beaufort\",\"adminDistrict\":\"SC\",\"postalCode\":29928}'"
      ]
     },
     "execution_count": 5,
     "metadata": {},
     "output_type": "execute_result"
    }
   ],
   "source": [
    "df.iloc[0].requested_address"
   ]
  },
  {
   "cell_type": "code",
   "execution_count": 11,
   "id": "591d4ae1",
   "metadata": {},
   "outputs": [],
   "source": [
    "response = json.loads(df.iloc[0].response)"
   ]
  },
  {
   "cell_type": "raw",
   "id": "fc227b95",
   "metadata": {},
   "source": []
  }
 ],
 "metadata": {
  "kernelspec": {
   "display_name": "Python 3 (ipykernel)",
   "language": "python",
   "name": "python3"
  },
  "language_info": {
   "codemirror_mode": {
    "name": "ipython",
    "version": 3
   },
   "file_extension": ".py",
   "mimetype": "text/x-python",
   "name": "python",
   "nbconvert_exporter": "python",
   "pygments_lexer": "ipython3",
   "version": "3.10.9"
  }
 },
 "nbformat": 4,
 "nbformat_minor": 5
}
