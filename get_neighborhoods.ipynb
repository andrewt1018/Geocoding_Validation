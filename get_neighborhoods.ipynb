{
 "cells": [
  {
   "cell_type": "code",
   "execution_count": 20,
   "id": "b25e1a96",
   "metadata": {},
   "outputs": [],
   "source": [
    "import pandas as pd\n",
    "import pickle"
   ]
  },
  {
   "cell_type": "code",
   "execution_count": 21,
   "id": "05ec720f",
   "metadata": {},
   "outputs": [
    {
     "data": {
      "text/html": [
       "<div>\n",
       "<style scoped>\n",
       "    .dataframe tbody tr th:only-of-type {\n",
       "        vertical-align: middle;\n",
       "    }\n",
       "\n",
       "    .dataframe tbody tr th {\n",
       "        vertical-align: top;\n",
       "    }\n",
       "\n",
       "    .dataframe thead th {\n",
       "        text-align: right;\n",
       "    }\n",
       "</style>\n",
       "<table border=\"1\" class=\"dataframe\">\n",
       "  <thead>\n",
       "    <tr style=\"text-align: right;\">\n",
       "      <th></th>\n",
       "      <th>neighborhood</th>\n",
       "      <th>neighborhood_ascii</th>\n",
       "      <th>lat</th>\n",
       "      <th>lng</th>\n",
       "      <th>city_name</th>\n",
       "      <th>city_id</th>\n",
       "      <th>state_name</th>\n",
       "      <th>state_id</th>\n",
       "      <th>source</th>\n",
       "      <th>timezone</th>\n",
       "      <th>zips</th>\n",
       "      <th>county_fips</th>\n",
       "      <th>county_name</th>\n",
       "      <th>id</th>\n",
       "    </tr>\n",
       "  </thead>\n",
       "  <tbody>\n",
       "    <tr>\n",
       "      <th>0</th>\n",
       "      <td>Atlanta University Center</td>\n",
       "      <td>Atlanta University Center</td>\n",
       "      <td>33.74947</td>\n",
       "      <td>-84.41125</td>\n",
       "      <td>Atlanta</td>\n",
       "      <td>1840013660</td>\n",
       "      <td>Georgia</td>\n",
       "      <td>GA</td>\n",
       "      <td>polygon</td>\n",
       "      <td>America/New_York</td>\n",
       "      <td>30314</td>\n",
       "      <td>13121</td>\n",
       "      <td>Fulton</td>\n",
       "      <td>184001366011100</td>\n",
       "    </tr>\n",
       "    <tr>\n",
       "      <th>1</th>\n",
       "      <td>Hunter Hills</td>\n",
       "      <td>Hunter Hills</td>\n",
       "      <td>33.75872</td>\n",
       "      <td>-84.43123</td>\n",
       "      <td>Atlanta</td>\n",
       "      <td>1840013660</td>\n",
       "      <td>Georgia</td>\n",
       "      <td>GA</td>\n",
       "      <td>polygon</td>\n",
       "      <td>America/New_York</td>\n",
       "      <td>30314</td>\n",
       "      <td>13121</td>\n",
       "      <td>Fulton</td>\n",
       "      <td>184001366011101</td>\n",
       "    </tr>\n",
       "    <tr>\n",
       "      <th>2</th>\n",
       "      <td>Bankhead</td>\n",
       "      <td>Bankhead</td>\n",
       "      <td>33.76901</td>\n",
       "      <td>-84.42452</td>\n",
       "      <td>Atlanta</td>\n",
       "      <td>1840013660</td>\n",
       "      <td>Georgia</td>\n",
       "      <td>GA</td>\n",
       "      <td>polygon</td>\n",
       "      <td>America/New_York</td>\n",
       "      <td>30318 30314</td>\n",
       "      <td>13121</td>\n",
       "      <td>Fulton</td>\n",
       "      <td>184001366011102</td>\n",
       "    </tr>\n",
       "    <tr>\n",
       "      <th>3</th>\n",
       "      <td>English Avenue</td>\n",
       "      <td>English Avenue</td>\n",
       "      <td>33.77070</td>\n",
       "      <td>-84.41099</td>\n",
       "      <td>Atlanta</td>\n",
       "      <td>1840013660</td>\n",
       "      <td>Georgia</td>\n",
       "      <td>GA</td>\n",
       "      <td>polygon</td>\n",
       "      <td>America/New_York</td>\n",
       "      <td>30318 30314</td>\n",
       "      <td>13121</td>\n",
       "      <td>Fulton</td>\n",
       "      <td>184001366011103</td>\n",
       "    </tr>\n",
       "    <tr>\n",
       "      <th>4</th>\n",
       "      <td>Adair Park</td>\n",
       "      <td>Adair Park</td>\n",
       "      <td>33.73117</td>\n",
       "      <td>-84.41083</td>\n",
       "      <td>Atlanta</td>\n",
       "      <td>1840013660</td>\n",
       "      <td>Georgia</td>\n",
       "      <td>GA</td>\n",
       "      <td>polygon</td>\n",
       "      <td>America/New_York</td>\n",
       "      <td>30310</td>\n",
       "      <td>13121</td>\n",
       "      <td>Fulton</td>\n",
       "      <td>184001366011104</td>\n",
       "    </tr>\n",
       "  </tbody>\n",
       "</table>\n",
       "</div>"
      ],
      "text/plain": [
       "                neighborhood         neighborhood_ascii       lat       lng  \\\n",
       "0  Atlanta University Center  Atlanta University Center  33.74947 -84.41125   \n",
       "1               Hunter Hills               Hunter Hills  33.75872 -84.43123   \n",
       "2                   Bankhead                   Bankhead  33.76901 -84.42452   \n",
       "3             English Avenue             English Avenue  33.77070 -84.41099   \n",
       "4                 Adair Park                 Adair Park  33.73117 -84.41083   \n",
       "\n",
       "  city_name     city_id state_name state_id   source          timezone  \\\n",
       "0   Atlanta  1840013660    Georgia       GA  polygon  America/New_York   \n",
       "1   Atlanta  1840013660    Georgia       GA  polygon  America/New_York   \n",
       "2   Atlanta  1840013660    Georgia       GA  polygon  America/New_York   \n",
       "3   Atlanta  1840013660    Georgia       GA  polygon  America/New_York   \n",
       "4   Atlanta  1840013660    Georgia       GA  polygon  America/New_York   \n",
       "\n",
       "          zips  county_fips county_name               id  \n",
       "0        30314        13121      Fulton  184001366011100  \n",
       "1        30314        13121      Fulton  184001366011101  \n",
       "2  30318 30314        13121      Fulton  184001366011102  \n",
       "3  30318 30314        13121      Fulton  184001366011103  \n",
       "4        30310        13121      Fulton  184001366011104  "
      ]
     },
     "execution_count": 21,
     "metadata": {},
     "output_type": "execute_result"
    }
   ],
   "source": [
    "df = pd.read_csv(\"neighborhoods.csv\")\n",
    "df.head()"
   ]
  },
  {
   "cell_type": "code",
   "execution_count": 30,
   "id": "ea462755",
   "metadata": {},
   "outputs": [],
   "source": [
    "# for i in range(len(df)):\n",
    "#     df.iloc[i]['neighborhood_ascii'] = df.iloc[i]['neighborhood_ascii'].lower()\n",
    "#     df.iloc[i]['state_id'] = df.iloc[i]['state_id'].lower()\n",
    "#     df.iloc[i]['city_name'] = df.iloc[i]['city_name'].lower()\n",
    "\n",
    "df['neighborhood_ascii'] = df['neighborhood_ascii'].str.lower()\n",
    "df['city_name'] = df['city_name'].str.lower()\n",
    "df['state_id'] = df['state_id'].str.lower()"
   ]
  },
  {
   "cell_type": "code",
   "execution_count": 31,
   "id": "45532c65",
   "metadata": {},
   "outputs": [],
   "source": [
    "neighborhoods = {}\n",
    "for i in range(len(df)):\n",
    "    entry = df.iloc[i]\n",
    "    if entry['state_id'] in neighborhoods.keys():\n",
    "        if entry['city_name'] in neighborhoods[entry['state_id']].keys():\n",
    "            neighborhoods[entry['state_id']][entry['city_name']].append(entry['neighborhood_ascii'])\n",
    "        else:\n",
    "            neighborhoods[entry['state_id']][entry['city_name']] = [entry['neighborhood_ascii']]\n",
    "    else:\n",
    "        neighborhoods[entry['state_id']] = {entry['city_name']: [entry['neighborhood_ascii']]}"
   ]
  },
  {
   "cell_type": "code",
   "execution_count": 32,
   "id": "d44c8a28",
   "metadata": {},
   "outputs": [
    {
     "data": {
      "text/plain": [
       "dict_keys(['ga', 'md', 'ma', 'il', 'tx', 'co', 'mi', 'nv', 'ca', 'fl', 'mn', 'ny', 'pa', 'az', 'or', 'wa', 'mo', 'dc'])"
      ]
     },
     "execution_count": 32,
     "metadata": {},
     "output_type": "execute_result"
    }
   ],
   "source": [
    "neighborhoods.keys()"
   ]
  },
  {
   "cell_type": "code",
   "execution_count": 33,
   "id": "299b5fb5",
   "metadata": {},
   "outputs": [],
   "source": [
    "with open(\"neighborhoods.pkl\", \"wb\") as f:\n",
    "    pickle.dump(neighborhoods, f)\n",
    "    f.close()"
   ]
  },
  {
   "cell_type": "code",
   "execution_count": null,
   "id": "0a9dec3a",
   "metadata": {},
   "outputs": [],
   "source": []
  }
 ],
 "metadata": {
  "kernelspec": {
   "display_name": "Python 3 (ipykernel)",
   "language": "python",
   "name": "python3"
  },
  "language_info": {
   "codemirror_mode": {
    "name": "ipython",
    "version": 3
   },
   "file_extension": ".py",
   "mimetype": "text/x-python",
   "name": "python",
   "nbconvert_exporter": "python",
   "pygments_lexer": "ipython3",
   "version": "3.10.9"
  }
 },
 "nbformat": 4,
 "nbformat_minor": 5
}
