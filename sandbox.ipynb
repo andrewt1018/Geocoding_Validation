{
 "cells": [
  {
   "cell_type": "code",
   "execution_count": 1,
   "id": "18b51acc",
   "metadata": {},
   "outputs": [],
   "source": [
    "import re"
   ]
  },
  {
   "cell_type": "code",
   "execution_count": 12,
   "id": "ac6c0336",
   "metadata": {},
   "outputs": [
    {
     "data": {
      "text/plain": [
       "'557 dune rd, W hampton, ny 11978'"
      ]
     },
     "execution_count": 12,
     "metadata": {},
     "output_type": "execute_result"
    }
   ],
   "source": [
    "string = \"557 Dune Rd, West hampton, NY 11978\".lower()\n",
    "string = re.sub(r\"west\\s?\", \"W \", string)\n",
    "string"
   ]
  },
  {
   "cell_type": "code",
   "execution_count": 28,
   "id": "426de5f1",
   "metadata": {},
   "outputs": [
    {
     "data": {
      "text/plain": [
       "{'authenticationResultCode': 'ValidCredentials',\n",
       " 'brandLogoUri': 'http://dev.virtualearth.net/Branding/logo_powered_by.png',\n",
       " 'copyright': 'Copyright © 2023 Microsoft and its suppliers. All rights reserved. This API cannot be accessed and the content and any results may not be used, reproduced or transmitted in any manner without express written permission from Microsoft Corporation.',\n",
       " 'resourceSets': [{'estimatedTotal': 1,\n",
       "   'resources': [{'__type': 'Location:http://schemas.microsoft.com/search/local/ws/rest/v1',\n",
       "     'bbox': [25.305840282429322,\n",
       "      -80.30299697788821,\n",
       "      25.313565717570675,\n",
       "      -80.2916030221118],\n",
       "     'name': '50 Club House Rd, Key Largo, FL 33037',\n",
       "     'point': {'type': 'Point', 'coordinates': [25.309703, -80.2973]},\n",
       "     'address': {'addressLine': '50 Club House Rd',\n",
       "      'adminDistrict': 'FL',\n",
       "      'adminDistrict2': 'Monroe County',\n",
       "      'countryRegion': 'United States',\n",
       "      'formattedAddress': '50 Club House Rd, Key Largo, FL 33037',\n",
       "      'locality': 'Key Largo',\n",
       "      'postalCode': '33037'},\n",
       "     'confidence': 'High',\n",
       "     'entityType': 'Address',\n",
       "     'geocodePoints': [{'type': 'Point',\n",
       "       'coordinates': [25.309703, -80.2973],\n",
       "       'calculationMethod': 'Rooftop',\n",
       "       'usageTypes': ['Display']},\n",
       "      {'type': 'Point',\n",
       "       'coordinates': [25.30977, -80.296861],\n",
       "       'calculationMethod': 'Rooftop',\n",
       "       'usageTypes': ['Route']}],\n",
       "     'matchCodes': ['Good']}]}],\n",
       " 'statusCode': 200,\n",
       " 'statusDescription': 'OK',\n",
       " 'traceId': '990155ca9e3444daac88150908e83a18|CHI001BAE3|0.0.0.1|Ref A: BD090A5AFEF343F28CA7167CF29DD017 Ref B: CH1EDGE2013 Ref C: 2023-07-18T18:30:55Z'}"
      ]
     },
     "execution_count": 28,
     "metadata": {},
     "output_type": "execute_result"
    }
   ],
   "source": [
    "import requests\n",
    "req = \"\"\"http://dev.virtualearth.net/REST/v1/Locations?countryRegion=US&addressLine=50 clubhouse rd %2341&locality=key largo&adminDistrict2=monroe&adminDistrict=fl&postalCode=33037&key=Ao5VXz_UhZ6NjzIF_L57R1wetZ-1YY2h_eKpLmgS-PxjHkJ_Vw89-uYqTbSDjdHp\"\"\"\n",
    "resp = requests.get(req).json()\n",
    "resp"
   ]
  },
  {
   "cell_type": "code",
   "execution_count": 29,
   "id": "6eefb33f",
   "metadata": {},
   "outputs": [
    {
     "data": {
      "text/plain": [
       "True"
      ]
     },
     "execution_count": 29,
     "metadata": {},
     "output_type": "execute_result"
    }
   ],
   "source": [
    "'Good' in resp['resourceSets'][0]['resources'][0]['matchCodes']"
   ]
  },
  {
   "cell_type": "code",
   "execution_count": null,
   "id": "dd3b491b",
   "metadata": {},
   "outputs": [],
   "source": []
  }
 ],
 "metadata": {
  "kernelspec": {
   "display_name": "Python 3 (ipykernel)",
   "language": "python",
   "name": "python3"
  },
  "language_info": {
   "codemirror_mode": {
    "name": "ipython",
    "version": 3
   },
   "file_extension": ".py",
   "mimetype": "text/x-python",
   "name": "python",
   "nbconvert_exporter": "python",
   "pygments_lexer": "ipython3",
   "version": "3.10.9"
  }
 },
 "nbformat": 4,
 "nbformat_minor": 5
}
