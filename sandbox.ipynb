{
 "cells": [
  {
   "cell_type": "code",
   "execution_count": 1,
   "id": "2bd3df4d",
   "metadata": {},
   "outputs": [],
   "source": [
    "import re"
   ]
  },
  {
   "cell_type": "code",
   "execution_count": 12,
   "id": "dca14b68",
   "metadata": {},
   "outputs": [
    {
     "data": {
      "text/plain": [
       "'557 dune rd, W hampton, ny 11978'"
      ]
     },
     "execution_count": 12,
     "metadata": {},
     "output_type": "execute_result"
    }
   ],
   "source": [
    "string = \"557 Dune Rd, West hampton, NY 11978\".lower()\n",
    "string = re.sub(r\"west\\s?\", \"W \", string)\n",
    "string"
   ]
  },
  {
   "cell_type": "code",
   "execution_count": 13,
   "id": "17979999",
   "metadata": {},
   "outputs": [],
   "source": [
    "import requests\n",
    "req = \"\"\"http://dev.virtualearth.net/REST/v1/Locations?locality=viera W &key=Ao5VXz_UhZ6NjzIF_L57R1wetZ-1YY2h_eKpLmgS-PxjHkJ_Vw89-uYqTbSDjdHp&adminDistrict=fl&adminDistrict2=brevard county\"\"\"\n",
    "resp = requests.get(req).json()"
   ]
  },
  {
   "cell_type": "code",
   "execution_count": 26,
   "id": "6a83db63",
   "metadata": {},
   "outputs": [
    {
     "data": {
      "text/plain": [
       "False"
      ]
     },
     "execution_count": 26,
     "metadata": {},
     "output_type": "execute_result"
    }
   ],
   "source": [
    "'Good' in resp['resourceSets'][0]['resources'][0]['matchCodes']"
   ]
  },
  {
   "cell_type": "code",
   "execution_count": null,
   "id": "79a0fcc3",
   "metadata": {},
   "outputs": [],
   "source": []
  }
 ],
 "metadata": {
  "kernelspec": {
   "display_name": "Python 3 (ipykernel)",
   "language": "python",
   "name": "python3"
  },
  "language_info": {
   "codemirror_mode": {
    "name": "ipython",
    "version": 3
   },
   "file_extension": ".py",
   "mimetype": "text/x-python",
   "name": "python",
   "nbconvert_exporter": "python",
   "pygments_lexer": "ipython3",
   "version": "3.10.9"
  }
 },
 "nbformat": 4,
 "nbformat_minor": 5
}
