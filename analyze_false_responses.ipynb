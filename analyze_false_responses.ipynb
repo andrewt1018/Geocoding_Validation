{
 "cells": [
  {
   "cell_type": "code",
   "execution_count": 17,
   "id": "e772608f",
   "metadata": {},
   "outputs": [],
   "source": [
    "from gc_val import GC_Val\n",
    "import pickle\n",
    "import pandas as pd"
   ]
  },
  {
   "cell_type": "code",
   "execution_count": 23,
   "id": "765a0861",
   "metadata": {},
   "outputs": [],
   "source": [
    "# Create an instance of the validation class\n",
    "val = GC_Val(\"data.csv\", \"neighborhoods.pkl\")\n",
    "\n",
    "# Set some constants\n",
    "threshold = 0.7\n",
    "max_dist = 15 #km"
   ]
  },
  {
   "cell_type": "code",
   "execution_count": 24,
   "id": "86850fdb",
   "metadata": {},
   "outputs": [
    {
     "data": {
      "text/plain": [
       "3533"
      ]
     },
     "execution_count": 24,
     "metadata": {},
     "output_type": "execute_result"
    }
   ],
   "source": [
    "# Read in the false responses pickle file\n",
    "file = open(\"false_responses.pkl\", \"rb\")\n",
    "false_resp = pickle.load(file)\n",
    "file.close()\n",
    "len(false_resp)"
   ]
  },
  {
   "cell_type": "code",
   "execution_count": 26,
   "id": "c147ec8d",
   "metadata": {
    "scrolled": true
   },
   "outputs": [
    {
     "name": "stdout",
     "output_type": "stream",
     "text": [
      "Total faulty entries: 3533\n",
      "High conf: 716\n",
      "Medium conf: 2514\n",
      "Low conf: 303\n",
      "\n",
      "AddressLine issue: 1362\n",
      "Admin district issue: 372\n",
      "Missing building number: 1050\n",
      "\n",
      "Rooftop method: 2160\n",
      "Interpolation method: 992\n",
      "Interpolation_offset method: 381\n"
     ]
    },
    {
     "data": {
      "text/plain": [
       "{\"['UpHierarchy']\": 1978,\n",
       " \"['Ambiguous', 'UpHierarchy']\": 189,\n",
       " \"['Good']\": 1240,\n",
       " \"['Ambiguous']\": 126}"
      ]
     },
     "metadata": {},
     "output_type": "display_data"
    }
   ],
   "source": [
    "# Separate the data into interested classifiers based on...\n",
    "# Confidence\n",
    "high_conf = []\n",
    "mid_conf = []\n",
    "low_conf = []\n",
    "\n",
    "# Reason for falsity \n",
    "addrLine_issue = []\n",
    "admin_district = []\n",
    "no_bldg = []\n",
    "\n",
    "# API's calculation method\n",
    "rooftop = []\n",
    "interpol = []\n",
    "interpol_offset = []\n",
    "\n",
    "# Match codes\n",
    "f_matches = {}\n",
    "\n",
    "for ind in false_resp:\n",
    "    # Getting the interested classifiers\n",
    "    if (conf:=val.get_confidence(ind)) == 'High':\n",
    "        high_conf.append(ind)\n",
    "    elif (conf:=val.get_confidence(ind)) == 'Medium':\n",
    "        mid_conf.append(ind)\n",
    "    elif (conf:=val.get_confidence(ind)) == 'Low':\n",
    "        low_conf.append(ind)\n",
    "        \n",
    "    calc_method = val.get_calculation_method(ind)\n",
    "    # ['Rooftop', 'InterpolationOffset', 'Interpolation']\n",
    "\n",
    "    if calc_method == 'Rooftop':\n",
    "        rooftop.append(ind)\n",
    "    elif calc_method == 'InterpolationOffset':\n",
    "        interpol_offset.append(ind)\n",
    "    elif calc_method == 'Interpolation':\n",
    "        interpol.append(ind)\n",
    "        \n",
    "    match_codes = val.get_match_codes(ind)\n",
    "    if str(match_codes) in f_matches.keys():\n",
    "        f_matches[str(match_codes)] += 1\n",
    "    else:\n",
    "        f_matches[str(match_codes)] = 1\n",
    "        \n",
    "    # Finding out the reason for false entry\n",
    "    if not val.has_addressLine(ind):\n",
    "        addrLine_issue.append(ind)\n",
    "        continue\n",
    "    \n",
    "    if not val.same_admin_district(ind):\n",
    "        admin_district.append(ind)\n",
    "        continue\n",
    "        \n",
    "    if not val.has_building_number(ind):\n",
    "        no_bldg.append(ind)\n",
    "print(\"Total faulty entries:\", len(false_resp))    \n",
    "print(\"High conf:\", len(high_conf))\n",
    "print(\"Medium conf:\", len(mid_conf))\n",
    "print(\"Low conf:\", len(low_conf))\n",
    "print()\n",
    "print(\"AddressLine issue:\", len(addrLine_issue))\n",
    "print(\"Admin district issue:\", len(admin_district))\n",
    "print(\"Missing building number:\", len(no_bldg))\n",
    "print()\n",
    "print(\"Rooftop method:\", len(rooftop))\n",
    "print(\"Interpolation method:\", len(interpol))\n",
    "print(\"Interpolation_offset method:\", len(interpol_offset))\n",
    "display(f_matches)"
   ]
  },
  {
   "cell_type": "code",
   "execution_count": 21,
   "id": "f688e868",
   "metadata": {},
   "outputs": [
    {
     "name": "stdout",
     "output_type": "stream",
     "text": [
      "High confidence: 96016\n",
      "Medium confidence: 3627\n",
      "Low confidence: 350\n",
      "\n",
      "Rooftop: 96613\n",
      "Interpolation: 992\n",
      "InterpolationOffset: 2388\n",
      "\n"
     ]
    },
    {
     "data": {
      "text/plain": [
       "{\"['Good']\": 97066,\n",
       " \"['UpHierarchy']\": 1978,\n",
       " \"['Ambiguous', 'UpHierarchy']\": 189,\n",
       " \"['Ambiguous']\": 760}"
      ]
     },
     "metadata": {},
     "output_type": "display_data"
    }
   ],
   "source": [
    "## Counting the entire dataset based on...\n",
    "# Confidence\n",
    "high = 0\n",
    "mid = 0\n",
    "low = 0\n",
    "\n",
    "# API's calculation method\n",
    "r = 0\n",
    "inter = 0\n",
    "io = 0\n",
    "\n",
    "# Match codes\n",
    "combs = {}\n",
    "for i in range(len(val.df)):\n",
    "    try:\n",
    "        if val.get_confidence(i) == \"High\":\n",
    "            high += 1\n",
    "        elif val.get_confidence(i) == \"Medium\":\n",
    "            mid += 1\n",
    "        elif val.get_confidence(i) == \"Low\":\n",
    "            low += 1\n",
    "        \n",
    "        method = val.get_calculation_method(i)\n",
    "        if method == 'Rooftop':\n",
    "            r += 1\n",
    "        elif method == 'Interpolation':\n",
    "            inter += 1\n",
    "        elif method == 'InterpolationOffset':\n",
    "            io += 1\n",
    "\n",
    "        match_codes = val.get_match_codes(i)\n",
    "        if str(match_codes) in combs.keys():\n",
    "            combs[str(match_codes)] += 1\n",
    "        else:\n",
    "            combs[str(match_codes)] = 1\n",
    "\n",
    "    except Exception as e:\n",
    "        continue\n",
    "print(\"High confidence:\", high)\n",
    "print(\"Medium confidence:\", mid)\n",
    "print(\"Low confidence:\", low)\n",
    "print()\n",
    "print(\"Rooftop:\", r)\n",
    "print(\"Interpolation:\", inter)\n",
    "print(\"InterpolationOffset:\", io)\n",
    "print()\n",
    "display(combs)"
   ]
  },
  {
   "cell_type": "code",
   "execution_count": 27,
   "id": "cb1b2292",
   "metadata": {},
   "outputs": [
    {
     "name": "stdout",
     "output_type": "stream",
     "text": [
      "Percentage of high-confidence faulty entries: 0.746%\n",
      "Percentage of medium-confidence faulty entries: 69.313%\n",
      "Percentage of low-confidence faulty entries: 86.571%\n",
      "Total percentage of faulty entries: 3.533%\n",
      "\n",
      "Percentage of rooftop faulty entries: 2.236%\n",
      "Percentage of interpolation faulty entries: 100.0%\n",
      "Percentage of interpolation_offset faulty entries: 15.955%\n",
      "\n",
      "Percentage of faulty entries with match_code ['UpHierarchy']: 100.0%\n",
      "Percentage of faulty entries with match_code ['Ambiguous', 'UpHierarchy']: 100.0%\n",
      "Percentage of faulty entries with match_code ['Good']: 1.277%\n",
      "Percentage of faulty entries with match_code ['Ambiguous']: 16.579%\n"
     ]
    }
   ],
   "source": [
    "# Outputting statistics\n",
    "digits = 3  # Round to 3 digits\n",
    "\n",
    "print(\"Percentage of high-confidence faulty entries: \" + str(round(len(high_conf)/high * 100, digits)) + \"%\")\n",
    "print(\"Percentage of medium-confidence faulty entries: \" + str(round(len(mid_conf)/mid * 100, digits)) + \"%\")\n",
    "print(\"Percentage of low-confidence faulty entries: \" + str(round(len(low_conf)/low * 100, digits)) + \"%\" )\n",
    "print(\"Total percentage of faulty entries: \" + str(round(len(false_resp) / len(val.df) * 100, digits)) + \"%\")\n",
    "print()\n",
    "print(\"Percentage of rooftop faulty entries: \" + str(round(len(rooftop)/r * 100, digits)) + \"%\")\n",
    "print(\"Percentage of interpolation faulty entries: \" + str(round(len(interpol)/inter * 100, digits)) + \"%\")\n",
    "print(\"Percentage of interpolation_offset faulty entries: \" + str(round(len(interpol_offset)/io * 100, digits)) + \"%\")\n",
    "print()\n",
    "for key in f_matches:\n",
    "    percentage = round(f_matches[key]/combs[key] * 100, digits)\n",
    "    print(f\"Percentage of faulty entries with match_code {key}: {percentage}%\")"
   ]
  },
  {
   "cell_type": "code",
   "execution_count": 29,
   "id": "15495eb7",
   "metadata": {},
   "outputs": [
    {
     "name": "stdout",
     "output_type": "stream",
     "text": [
      "Index: 3523\n"
     ]
    },
    {
     "data": {
      "text/plain": [
       "{'addressLine': '730 via lugano',\n",
       " 'countryRegion': 'us',\n",
       " 'locality': 'winter park',\n",
       " 'adminDistrict2': 'orange',\n",
       " 'adminDistrict': 'fl',\n",
       " 'postalCode': '32789'}"
      ]
     },
     "metadata": {},
     "output_type": "display_data"
    },
    {
     "data": {
      "text/plain": [
       "{'adminDistrict2': 'orange county',\n",
       " 'formattedAddress': '730 via lugano, winter park, fl 32789',\n",
       " 'countryRegion': 'united states',\n",
       " 'postalCode': '32789',\n",
       " 'locality': 'winter park',\n",
       " 'adminDistrict': 'fl',\n",
       " 'addressLine': '730 via lugano'}"
      ]
     },
     "metadata": {},
     "output_type": "display_data"
    },
    {
     "name": "stdout",
     "output_type": "stream",
     "text": [
      "Returning true because of high confidence\n"
     ]
    },
    {
     "data": {
      "text/plain": [
       "True"
      ]
     },
     "execution_count": 29,
     "metadata": {},
     "output_type": "execute_result"
    }
   ],
   "source": [
    "val.main(3523, debug=True)"
   ]
  },
  {
   "cell_type": "code",
   "execution_count": null,
   "id": "7d718fa7",
   "metadata": {},
   "outputs": [],
   "source": []
  }
 ],
 "metadata": {
  "kernelspec": {
   "display_name": "Python 3 (ipykernel)",
   "language": "python",
   "name": "python3"
  },
  "language_info": {
   "codemirror_mode": {
    "name": "ipython",
    "version": 3
   },
   "file_extension": ".py",
   "mimetype": "text/x-python",
   "name": "python",
   "nbconvert_exporter": "python",
   "pygments_lexer": "ipython3",
   "version": "3.10.9"
  }
 },
 "nbformat": 4,
 "nbformat_minor": 5
}
